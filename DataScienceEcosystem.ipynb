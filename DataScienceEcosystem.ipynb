{
 "cells": [
  {
   "cell_type": "markdown",
   "id": "10f76d0a-079e-4a23-a4cf-bd51afb53069",
   "metadata": {},
   "source": [
    "# DATA SCIENCE TOOLS AND ECOSYSTEM\n"
   ]
  },
  {
   "cell_type": "markdown",
   "id": "05ab535f-51f8-4224-8ba6-766d869af251",
   "metadata": {},
   "source": [
    "IN THIS NOTEBOOK, DATA SCIENCE TOOLS AND ECOSYSTEM ARE SUMMARIZED"
   ]
  },
  {
   "cell_type": "markdown",
   "id": "c94f19c2-86f6-4f3e-b364-7e9d232edd26",
   "metadata": {},
   "source": [
    "OBJECTIVES:\n",
    "1. Languages that data scienctist use\n",
    "2. common libraries used by data sciencist\n",
    "3. arithmetic expression"
   ]
  },
  {
   "cell_type": "markdown",
   "id": "9510a1f2-8b17-4849-b871-63bb00bf16f7",
   "metadata": {},
   "source": [
    "SOME POPULAR LANGUAGE THAT DATA SCIENTISTS UES:\n",
    "1. PYTHON\n",
    "2. R\n",
    "3. SQL\n",
    "4. JAVA\n",
    "5. JAVASCRIPT\n",
    "6. JULIA\n",
    "7. SCALA\n",
    "8. SAS\n",
    "9. SWIFT\n",
    "10. C/C++"
   ]
  },
  {
   "cell_type": "markdown",
   "id": "7fbc9b86-85e2-4078-b8b7-19aee747c51d",
   "metadata": {},
   "source": [
    "Some of the commonly used libraries used by Data Scientists include:\n",
    "1. NUMPY\n",
    "2. PANDAS\n",
    "3. PYTORCH\n",
    "4. TENSOR-FLOW\n",
    "5. KERAS\n",
    "6. SEABORN\n",
    "7. SCIKIT-LEARN\n",
    "8. SCIPY\n",
    "9. MATPLOTLIB\n",
    "10. SCRAPY"
   ]
  },
  {
   "cell_type": "code",
   "execution_count": 1,
   "id": "22ac5bcb-2073-4b5b-b462-da5210fe0c4c",
   "metadata": {},
   "outputs": [
    {
     "name": "stdout",
     "output_type": "stream",
     "text": [
      "  Data Science Tools\n",
      "0   Jupyter Notebook\n",
      "1            RStudio\n",
      "2             Spyder\n"
     ]
    }
   ],
   "source": [
    "import pandas as pd\n",
    "\n",
    "# Create a list of data science tools\n",
    "data_science_tools = ['Jupyter Notebook', 'RStudio', 'Spyder']\n",
    "\n",
    "# Create a DataFrame\n",
    "df = pd.DataFrame(data_science_tools, columns=['Data Science Tools'])\n",
    "\n",
    "# Display the DataFrame\n",
    "print(df)\n"
   ]
  },
  {
   "cell_type": "markdown",
   "id": "d3eff1a1-9878-4ab3-819f-84bc7de26f59",
   "metadata": {},
   "source": [
    "### Below are a few examples of evaluating arithmetic expressions in Python"
   ]
  },
  {
   "cell_type": "code",
   "execution_count": 2,
   "id": "e7e38672-ae56-42a5-a1d1-c901ab1b0cd3",
   "metadata": {},
   "outputs": [
    {
     "data": {
      "text/plain": [
       "17"
      ]
     },
     "execution_count": 2,
     "metadata": {},
     "output_type": "execute_result"
    }
   ],
   "source": [
    "# THIS IS A SIMPLE ARITHMETIC EXPRESSION TO MULTIPLY AND THEN ADD\n",
    "(3*4)+5"
   ]
  },
  {
   "cell_type": "code",
   "execution_count": 3,
   "id": "b9d46e16-ceb3-4dfc-900a-1bbf350c9dac",
   "metadata": {},
   "outputs": [
    {
     "name": "stdout",
     "output_type": "stream",
     "text": [
      "3.3333333333333335\n"
     ]
    }
   ],
   "source": [
    "#THIS WILL CONVERT 200 MINUTES TO HOURS BY DIVIDING BY 60\n",
    "hours = 200/60\n",
    "print(hours)\n"
   ]
  },
  {
   "cell_type": "markdown",
   "id": "6c27b6af-b06a-48d6-9b7d-04c1057e05aa",
   "metadata": {},
   "source": [
    "## AUTHOR\n",
    "AUGUSTINE ODIRI ENDURANCE"
   ]
  }
 ],
 "metadata": {
  "kernelspec": {
   "display_name": "Python 3 (ipykernel)",
   "language": "python",
   "name": "python3"
  },
  "language_info": {
   "codemirror_mode": {
    "name": "ipython",
    "version": 3
   },
   "file_extension": ".py",
   "mimetype": "text/x-python",
   "name": "python",
   "nbconvert_exporter": "python",
   "pygments_lexer": "ipython3",
   "version": "3.11.7"
  }
 },
 "nbformat": 4,
 "nbformat_minor": 5
}
